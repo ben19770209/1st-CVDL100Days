{
 "cells": [
  {
   "cell_type": "markdown",
   "metadata": {},
   "source": [
    "# 範例\n",
    "\n",
    "取得 SIFT 特徵\n",
    "\n",
    "- 轉成灰階圖片\n",
    "- 需要額外安裝 OpenCV 相關套件"
   ]
  },
  {
   "cell_type": "code",
   "execution_count": 1,
   "metadata": {},
   "outputs": [],
   "source": [
    "import numpy as np\n",
    "import cv2\n",
    "\n",
    "img = cv2.imread('data/lena.png')"
   ]
  },
  {
   "cell_type": "code",
   "execution_count": 2,
   "metadata": {},
   "outputs": [
    {
     "ename": "AttributeError",
     "evalue": "module 'cv2.cv2' has no attribute 'xfeatures2d'",
     "output_type": "error",
     "traceback": [
      "\u001b[1;31m---------------------------------------------------------------------------\u001b[0m",
      "\u001b[1;31mAttributeError\u001b[0m                            Traceback (most recent call last)",
      "\u001b[1;32m<ipython-input-2-59042b5e5b8b>\u001b[0m in \u001b[0;36m<module>\u001b[1;34m\u001b[0m\n\u001b[0;32m      3\u001b[0m \u001b[1;33m\u001b[0m\u001b[0m\n\u001b[0;32m      4\u001b[0m \u001b[1;31m# 建立 SIFT 物件\u001b[0m\u001b[1;33m\u001b[0m\u001b[1;33m\u001b[0m\u001b[1;33m\u001b[0m\u001b[0m\n\u001b[1;32m----> 5\u001b[1;33m \u001b[0mSIFT_detector\u001b[0m \u001b[1;33m=\u001b[0m \u001b[0mcv2\u001b[0m\u001b[1;33m.\u001b[0m\u001b[0mxfeatures2d\u001b[0m\u001b[1;33m.\u001b[0m\u001b[0mSIFT_create\u001b[0m\u001b[1;33m(\u001b[0m\u001b[1;33m)\u001b[0m\u001b[1;33m\u001b[0m\u001b[1;33m\u001b[0m\u001b[0m\n\u001b[0m\u001b[0;32m      6\u001b[0m \u001b[1;33m\u001b[0m\u001b[0m\n\u001b[0;32m      7\u001b[0m \u001b[1;31m# 取得 SIFT 關鍵點位置\u001b[0m\u001b[1;33m\u001b[0m\u001b[1;33m\u001b[0m\u001b[1;33m\u001b[0m\u001b[0m\n",
      "\u001b[1;31mAttributeError\u001b[0m: module 'cv2.cv2' has no attribute 'xfeatures2d'"
     ]
    }
   ],
   "source": [
    "# 轉灰階圖片\n",
    "img_gray = cv2.cvtColor(img, cv2.COLOR_BGR2GRAY)\n",
    "\n",
    "# 建立 SIFT 物件\n",
    "SIFT_detector = cv2.xfeatures2d.SIFT_create()\n",
    "\n",
    "# 取得 SIFT 關鍵點位置\n",
    "keypoints = SIFT_detector.detect(img_gray, None)\n",
    "\n",
    "#　畫圖 + 顯示圖片\n",
    "img_show = cv2.drawKeypoints(img_gray, keypoints, img)\n",
    "while True:\n",
    "    cv2.imshow('SIFT', img_show)\n",
    "    k = cv2.waitKey(0)\n",
    "    if k == 27:\n",
    "        cv2.destroyAllWindows()\n",
    "        break"
   ]
  },
  {
   "cell_type": "code",
   "execution_count": 3,
   "metadata": {},
   "outputs": [
    {
     "name": "stdout",
     "output_type": "stream",
     "text": [
      "Package               Version            \n",
      "--------------------- -------------------\n",
      "-pencv-python         4.1.1.26           \n",
      "attrs                 19.3.0             \n",
      "backcall              0.1.0              \n",
      "bleach                3.1.0              \n",
      "certifi               2019.9.11          \n",
      "colorama              0.4.1              \n",
      "decorator             4.4.1              \n",
      "defusedxml            0.6.0              \n",
      "entrypoints           0.3                \n",
      "importlib-metadata    0.23               \n",
      "ipykernel             5.1.3              \n",
      "ipython               7.9.0              \n",
      "ipython-genutils      0.2.0              \n",
      "jedi                  0.15.1             \n",
      "Jinja2                2.10.3             \n",
      "jsonschema            3.1.1              \n",
      "jupyter-client        5.3.4              \n",
      "jupyter-core          4.6.1              \n",
      "MarkupSafe            1.1.1              \n",
      "mistune               0.8.4              \n",
      "more-itertools        7.2.0              \n",
      "nbconvert             5.6.1              \n",
      "nbformat              4.4.0              \n",
      "notebook              6.0.2              \n",
      "numpy                 1.17.4             \n",
      "opencv-contrib-python 3.4.2.16           \n",
      "opencv-python         3.4.2.16           \n",
      "pandocfilters         1.4.2              \n",
      "parso                 0.5.1              \n",
      "pickleshare           0.7.5              \n",
      "pip                   19.3.1             \n",
      "prometheus-client     0.7.1              \n",
      "prompt-toolkit        2.0.10             \n",
      "Pygments              2.4.2              \n",
      "pyrsistent            0.15.5             \n",
      "python-dateutil       2.8.1              \n",
      "pywin32               223                \n",
      "pywinpty              0.5.5              \n",
      "pyzmq                 18.1.0             \n",
      "Send2Trash            1.5.0              \n",
      "setuptools            41.6.0.post20191030\n",
      "six                   1.13.0             \n",
      "terminado             0.8.2              \n",
      "testpath              0.4.4              \n",
      "tornado               6.0.3              \n",
      "traitlets             4.3.3              \n",
      "wcwidth               0.1.7              \n",
      "webencodings          0.5.1              \n",
      "wheel                 0.33.6             \n",
      "wincertstore          0.2                \n",
      "zipp                  0.6.0              \n"
     ]
    }
   ],
   "source": [
    "!pip list"
   ]
  },
  {
   "cell_type": "markdown",
   "metadata": {},
   "source": [
    "Package               Version            \n",
    "--------------------- -------------------\n",
    "-pencv-python         4.1.1.26           \n",
    "attrs                 19.3.0             \n",
    "backcall              0.1.0              \n",
    "bleach                3.1.0              \n",
    "certifi               2019.9.11          \n",
    "colorama              0.4.1              \n",
    "decorator             4.4.1              \n",
    "defusedxml            0.6.0              \n",
    "entrypoints           0.3                \n",
    "importlib-metadata    0.23               \n",
    "ipykernel             5.1.3              \n",
    "ipython               7.9.0              \n",
    "ipython-genutils      0.2.0              \n",
    "jedi                  0.15.1             \n",
    "Jinja2                2.10.3             \n",
    "jsonschema            3.1.1              \n",
    "jupyter-client        5.3.4              \n",
    "jupyter-core          4.6.1              \n",
    "MarkupSafe            1.1.1              \n",
    "mistune               0.8.4              \n",
    "more-itertools        7.2.0              \n",
    "nbconvert             5.6.1              \n",
    "nbformat              4.4.0              \n",
    "notebook              6.0.2              \n",
    "numpy                 1.17.4             \n",
    "opencv-contrib-python 3.4.2.16           \n",
    "opencv-python         3.4.2.16           \n",
    "pandocfilters         1.4.2              \n",
    "parso                 0.5.1              \n",
    "pickleshare           0.7.5              \n",
    "pip                   19.3.1             \n",
    "prometheus-client     0.7.1              \n",
    "prompt-toolkit        2.0.10             \n",
    "Pygments              2.4.2              \n",
    "pyrsistent            0.15.5             \n",
    "python-dateutil       2.8.1              \n",
    "pywin32               223                \n",
    "pywinpty              0.5.5              \n",
    "pyzmq                 18.1.0             \n",
    "Send2Trash            1.5.0              \n",
    "setuptools            41.6.0.post20191030\n",
    "six                   1.13.0             \n",
    "terminado             0.8.2              \n",
    "testpath              0.4.4              \n",
    "tornado               6.0.3              \n",
    "traitlets             4.3.3              \n",
    "wcwidth               0.1.7              \n",
    "webencodings          0.5.1              \n",
    "wheel                 0.33.6             \n",
    "wincertstore          0.2                \n",
    "zipp                  0.6.0  "
   ]
  },
  {
   "cell_type": "code",
   "execution_count": null,
   "metadata": {},
   "outputs": [],
   "source": []
  }
 ],
 "metadata": {
  "kernelspec": {
   "display_name": "Python 3",
   "language": "python",
   "name": "python3"
  },
  "language_info": {
   "codemirror_mode": {
    "name": "ipython",
    "version": 3
   },
   "file_extension": ".py",
   "mimetype": "text/x-python",
   "name": "python",
   "nbconvert_exporter": "python",
   "pygments_lexer": "ipython3",
   "version": "3.7.5"
  }
 },
 "nbformat": 4,
 "nbformat_minor": 2
}
