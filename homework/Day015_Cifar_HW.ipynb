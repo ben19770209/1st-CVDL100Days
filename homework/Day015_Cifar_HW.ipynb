{
 "cells": [
  {
   "cell_type": "markdown",
   "metadata": {},
   "source": [
    "## 『本次練習內容』\n",
    "#### 運用這幾天所學觀念搭建一個CNN分類器"
   ]
  },
  {
   "cell_type": "markdown",
   "metadata": {},
   "source": [
    "## 『本次練習目的』\n",
    "  #### 熟悉CNN分類器搭建步驟與原理\n",
    "  #### 學員們可以嘗試不同搭法，如使用不同的Maxpooling層，用GlobalAveragePooling取代Flatten等等"
   ]
  },
  {
   "cell_type": "code",
   "execution_count": 1,
   "metadata": {},
   "outputs": [
    {
     "name": "stderr",
     "output_type": "stream",
     "text": [
      "Using TensorFlow backend.\n"
     ]
    }
   ],
   "source": [
    "from keras.models import Sequential\n",
    "from keras.layers import Convolution2D\n",
    "from keras.layers import MaxPooling2D\n",
    "from keras.layers import Flatten\n",
    "from keras.layers import Dense\n",
    "from keras.layers import Dropout\n",
    "from keras.layers import BatchNormalization\n",
    "from keras.datasets import cifar10\n",
    "import numpy as np\n",
    "import tensorflow as tf\n",
    "from sklearn.preprocessing import OneHotEncoder\n"
   ]
  },
  {
   "cell_type": "code",
   "execution_count": 2,
   "metadata": {},
   "outputs": [
    {
     "name": "stdout",
     "output_type": "stream",
     "text": [
      "(50000, 32, 32, 3)\n"
     ]
    }
   ],
   "source": [
    "(x_train, y_train), (x_test, y_test) = cifar10.load_data()\n",
    "\n",
    "print(x_train.shape) #(50000, 32, 32, 3)\n",
    "\n",
    "## Normalize Data\n",
    "def normalize(X_train,X_test):\n",
    "        mean = np.mean(X_train,axis=(0,1,2,3))\n",
    "        std = np.std(X_train, axis=(0, 1, 2, 3))\n",
    "        X_train = (X_train-mean)/(std+1e-7)\n",
    "        X_test = (X_test-mean)/(std+1e-7) \n",
    "        return X_train, X_test,mean,std\n",
    "    \n",
    "    \n",
    "## Normalize Training and Testset    \n",
    "x_train, x_test,mean_train,std_train = normalize(x_train, x_test) "
   ]
  },
  {
   "cell_type": "code",
   "execution_count": 3,
   "metadata": {},
   "outputs": [
    {
     "name": "stderr",
     "output_type": "stream",
     "text": [
      "C:\\Users\\Ben\\Anaconda3\\envs\\cvdl\\lib\\site-packages\\sklearn\\preprocessing\\_encoders.py:415: FutureWarning: The handling of integer data will change in version 0.22. Currently, the categories are determined based on the range [0, max(values)], while in the future they will be determined based on the unique values.\n",
      "If you want the future behaviour and silence this warning, you can specify \"categories='auto'\".\n",
      "In case you used a LabelEncoder before this OneHotEncoder to convert the categories to integers, then you can now use the OneHotEncoder directly.\n",
      "  warnings.warn(msg, FutureWarning)\n"
     ]
    }
   ],
   "source": [
    "## OneHot Label 由(None, 1)-(None, 10)\n",
    "## ex. label=2,變成[0,0,1,0,0,0,0,0,0,0]\n",
    "one_hot=OneHotEncoder()\n",
    "y_train=one_hot.fit_transform(y_train).toarray()\n",
    "y_test=one_hot.transform(y_test).toarray()"
   ]
  },
  {
   "cell_type": "code",
   "execution_count": 9,
   "metadata": {},
   "outputs": [
    {
     "name": "stdout",
     "output_type": "stream",
     "text": [
      "_________________________________________________________________\n",
      "Layer (type)                 Output Shape              Param #   \n",
      "=================================================================\n",
      "conv2d_10 (Conv2D)           (None, 30, 30, 32)        896       \n",
      "_________________________________________________________________\n",
      "batch_normalization_9 (Batch (None, 30, 30, 32)        128       \n",
      "_________________________________________________________________\n",
      "max_pooling2d_4 (MaxPooling2 (None, 15, 15, 32)        0         \n",
      "_________________________________________________________________\n",
      "conv2d_11 (Conv2D)           (None, 13, 13, 64)        18496     \n",
      "_________________________________________________________________\n",
      "batch_normalization_10 (Batc (None, 13, 13, 64)        256       \n",
      "_________________________________________________________________\n",
      "flatten_4 (Flatten)          (None, 10816)             0         \n",
      "_________________________________________________________________\n",
      "dense_7 (Dense)              (None, 100)               1081700   \n",
      "_________________________________________________________________\n",
      "dense_8 (Dense)              (None, 10)                1010      \n",
      "=================================================================\n",
      "Total params: 1,102,486\n",
      "Trainable params: 1,102,294\n",
      "Non-trainable params: 192\n",
      "_________________________________________________________________\n"
     ]
    },
    {
     "name": "stderr",
     "output_type": "stream",
     "text": [
      "C:\\Users\\Ben\\Anaconda3\\envs\\cvdl\\lib\\site-packages\\ipykernel_launcher.py:21: UserWarning: Update your `Dense` call to the Keras 2 API: `Dense(activation=\"softmax\", units=10)`\n"
     ]
    }
   ],
   "source": [
    "\n",
    "classifier=Sequential()\n",
    "\n",
    "#卷積組合\n",
    "classifier.add(Convolution2D(32, (3,3), input_shape=(32,32,3), activation='relu'))#32,3,3,input_shape=(32,32,3),activation='relu''\n",
    "classifier.add(BatchNormalization())\n",
    "\n",
    "'''自己決定MaxPooling2D放在哪裡'''\n",
    "classifier.add(MaxPooling2D(pool_size=(2,2)))\n",
    "\n",
    "#卷積組合\n",
    "classifier.add(Convolution2D(64, (3,3)))\n",
    "classifier.add(BatchNormalization())\n",
    "\n",
    "#flatten\n",
    "classifier.add(Flatten())\n",
    "\n",
    "#FC\n",
    "classifier.add(Dense(100, activation='relu')) #output_dim=100,activation=relu\n",
    "\n",
    "#輸出\n",
    "classifier.add(Dense(output_dim=10, activation='softmax'))\n",
    "\n",
    "#超過兩個就要選categorical_crossentrophy\n",
    "classifier.compile(optimizer = 'adam', loss = 'categorical_crossentropy', metrics = ['accuracy'])\n",
    "\n",
    "classifier.summary()"
   ]
  },
  {
   "cell_type": "code",
   "execution_count": 10,
   "metadata": {},
   "outputs": [
    {
     "name": "stdout",
     "output_type": "stream",
     "text": [
      "Epoch 1/30\n",
      "50000/50000 [==============================] - 66s 1ms/step - loss: 1.5005 - acc: 0.5237\n",
      "Epoch 2/30\n",
      "50000/50000 [==============================] - 68s 1ms/step - loss: 0.9260 - acc: 0.6776\n",
      "Epoch 3/30\n",
      "50000/50000 [==============================] - 65s 1ms/step - loss: 0.7319 - acc: 0.7434\n",
      "Epoch 4/30\n",
      "50000/50000 [==============================] - 68s 1ms/step - loss: 0.5889 - acc: 0.7943\n",
      "Epoch 5/30\n",
      "50000/50000 [==============================] - 66s 1ms/step - loss: 0.4673 - acc: 0.8350\n",
      "Epoch 6/30\n",
      "50000/50000 [==============================] - 64s 1ms/step - loss: 0.3671 - acc: 0.8701\n",
      "Epoch 7/30\n",
      "50000/50000 [==============================] - 104s 2ms/step - loss: 0.3056 - acc: 0.8938\n",
      "Epoch 8/30\n",
      "50000/50000 [==============================] - 104s 2ms/step - loss: 0.2418 - acc: 0.9160\n",
      "Epoch 9/30\n",
      "50000/50000 [==============================] - 104s 2ms/step - loss: 0.1983 - acc: 0.9305\n",
      "Epoch 10/30\n",
      "50000/50000 [==============================] - 105s 2ms/step - loss: 0.1735 - acc: 0.9395\n",
      "Epoch 11/30\n",
      "50000/50000 [==============================] - 103s 2ms/step - loss: 0.1566 - acc: 0.9457\n",
      "Epoch 12/30\n",
      "50000/50000 [==============================] - 103s 2ms/step - loss: 0.1389 - acc: 0.9522\n",
      "Epoch 13/30\n",
      "50000/50000 [==============================] - 104s 2ms/step - loss: 0.1223 - acc: 0.9587\n",
      "Epoch 14/30\n",
      "50000/50000 [==============================] - 103s 2ms/step - loss: 0.1148 - acc: 0.9614\n",
      "Epoch 15/30\n",
      "50000/50000 [==============================] - 104s 2ms/step - loss: 0.1050 - acc: 0.9636\n",
      "Epoch 16/30\n",
      "50000/50000 [==============================] - 1174s 23ms/step - loss: 0.1118 - acc: 0.9628\n",
      "Epoch 17/30\n",
      "50000/50000 [==============================] - 68s 1ms/step - loss: 0.1054 - acc: 0.9638\n",
      "Epoch 18/30\n",
      "50000/50000 [==============================] - 63s 1ms/step - loss: 0.0818 - acc: 0.9718\n",
      "Epoch 19/30\n",
      "50000/50000 [==============================] - 68s 1ms/step - loss: 0.0688 - acc: 0.9770\n",
      "Epoch 20/30\n",
      "50000/50000 [==============================] - 66s 1ms/step - loss: 0.0712 - acc: 0.9764\n",
      "Epoch 21/30\n",
      "50000/50000 [==============================] - 66s 1ms/step - loss: 0.0794 - acc: 0.9734\n",
      "Epoch 22/30\n",
      "50000/50000 [==============================] - 66s 1ms/step - loss: 0.0793 - acc: 0.9737\n",
      "Epoch 23/30\n",
      "50000/50000 [==============================] - 66s 1ms/step - loss: 0.0727 - acc: 0.9764\n",
      "Epoch 24/30\n",
      "50000/50000 [==============================] - 64s 1ms/step - loss: 0.0613 - acc: 0.9797\n",
      "Epoch 25/30\n",
      "50000/50000 [==============================] - 65s 1ms/step - loss: 0.0608 - acc: 0.9799\n",
      "Epoch 26/30\n",
      "50000/50000 [==============================] - 63s 1ms/step - loss: 0.0626 - acc: 0.9795\n",
      "Epoch 27/30\n",
      "50000/50000 [==============================] - 63s 1ms/step - loss: 0.0634 - acc: 0.9791\n",
      "Epoch 28/30\n",
      "50000/50000 [==============================] - 75s 1ms/step - loss: 0.0634 - acc: 0.9795\n",
      "Epoch 29/30\n",
      "50000/50000 [==============================] - 80s 2ms/step - loss: 0.0557 - acc: 0.9820\n",
      "Epoch 30/30\n",
      "50000/50000 [==============================] - 79s 2ms/step - loss: 0.0593 - acc: 0.9804\n"
     ]
    },
    {
     "data": {
      "text/plain": [
       "<keras.callbacks.History at 0x1e137d44e88>"
      ]
     },
     "execution_count": 10,
     "metadata": {},
     "output_type": "execute_result"
    }
   ],
   "source": [
    "classifier.fit(x_train, y_train, batch_size=100, epochs=30)"
   ]
  },
  {
   "cell_type": "markdown",
   "metadata": {},
   "source": [
    "## 預測新圖片，輸入影像前處理要與訓練時相同\n",
    "#### ((X-mean)/(std+1e-7) ):這裡的mean跟std是訓練集的\n",
    "## 維度如下方示範"
   ]
  },
  {
   "cell_type": "code",
   "execution_count": 11,
   "metadata": {},
   "outputs": [
    {
     "data": {
      "text/plain": [
       "array([[6.4984437e-05, 6.2138966e-10, 1.2594148e-08, 9.9824250e-01,\n",
       "        1.6800754e-03, 1.2420665e-05, 4.2031951e-09, 4.5692380e-10,\n",
       "        5.9263788e-10, 7.9012765e-14]], dtype=float32)"
      ]
     },
     "execution_count": 11,
     "metadata": {},
     "output_type": "execute_result"
    }
   ],
   "source": [
    "input_example=(np.zeros(shape=(1,32,32,3))-mean_train)/(std_train+1e-7) \n",
    "classifier.predict(input_example)"
   ]
  },
  {
   "cell_type": "code",
   "execution_count": null,
   "metadata": {},
   "outputs": [],
   "source": []
  }
 ],
 "metadata": {
  "kernelspec": {
   "display_name": "Python 3",
   "language": "python",
   "name": "python3"
  },
  "language_info": {
   "codemirror_mode": {
    "name": "ipython",
    "version": 3
   },
   "file_extension": ".py",
   "mimetype": "text/x-python",
   "name": "python",
   "nbconvert_exporter": "python",
   "pygments_lexer": "ipython3",
   "version": "3.7.5"
  }
 },
 "nbformat": 4,
 "nbformat_minor": 2
}
