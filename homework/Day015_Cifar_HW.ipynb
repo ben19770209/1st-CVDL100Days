{
 "cells": [
  {
   "cell_type": "code",
   "execution_count": 1,
   "metadata": {},
   "outputs": [],
   "source": [
    "import os\n",
    "os.environ[\"KERAS_BACKEND\"] = \"plaidml.keras.backend\""
   ]
  },
  {
   "cell_type": "markdown",
   "metadata": {},
   "source": [
    "## 『本次練習內容』\n",
    "#### 運用這幾天所學觀念搭建一個CNN分類器"
   ]
  },
  {
   "cell_type": "markdown",
   "metadata": {},
   "source": [
    "## 『本次練習目的』\n",
    "  #### 熟悉CNN分類器搭建步驟與原理\n",
    "  #### 學員們可以嘗試不同搭法，如使用不同的Maxpooling層，用GlobalAveragePooling取代Flatten等等"
   ]
  },
  {
   "cell_type": "code",
   "execution_count": 2,
   "metadata": {},
   "outputs": [
    {
     "name": "stderr",
     "output_type": "stream",
     "text": [
      "Using plaidml.keras.backend backend.\n"
     ]
    }
   ],
   "source": [
    "from keras.models import Sequential\n",
    "from keras.layers import Convolution2D\n",
    "from keras.layers import MaxPooling2D\n",
    "from keras.layers import Flatten\n",
    "from keras.layers import Dense\n",
    "from keras.layers import Dropout\n",
    "from keras.layers import BatchNormalization\n",
    "from keras.datasets import cifar10\n",
    "import numpy as np\n",
    "import tensorflow as tf\n",
    "from sklearn.preprocessing import OneHotEncoder\n"
   ]
  },
  {
   "cell_type": "code",
   "execution_count": 3,
   "metadata": {},
   "outputs": [
    {
     "name": "stdout",
     "output_type": "stream",
     "text": [
      "(50000, 32, 32, 3)\n"
     ]
    }
   ],
   "source": [
    "(x_train, y_train), (x_test, y_test) = cifar10.load_data()\n",
    "\n",
    "print(x_train.shape) #(50000, 32, 32, 3)\n",
    "\n",
    "## Normalize Data\n",
    "def normalize(X_train,X_test):\n",
    "        mean = np.mean(X_train,axis=(0,1,2,3))\n",
    "        std = np.std(X_train, axis=(0, 1, 2, 3))\n",
    "        X_train = (X_train-mean)/(std+1e-7)\n",
    "        X_test = (X_test-mean)/(std+1e-7) \n",
    "        return X_train, X_test,mean,std\n",
    "    \n",
    "    \n",
    "## Normalize Training and Testset    \n",
    "x_train, x_test,mean_train,std_train = normalize(x_train, x_test) "
   ]
  },
  {
   "cell_type": "code",
   "execution_count": 4,
   "metadata": {},
   "outputs": [
    {
     "name": "stderr",
     "output_type": "stream",
     "text": [
      "C:\\Users\\Ben\\Anaconda3\\envs\\cvdl\\lib\\site-packages\\sklearn\\preprocessing\\_encoders.py:415: FutureWarning: The handling of integer data will change in version 0.22. Currently, the categories are determined based on the range [0, max(values)], while in the future they will be determined based on the unique values.\n",
      "If you want the future behaviour and silence this warning, you can specify \"categories='auto'\".\n",
      "In case you used a LabelEncoder before this OneHotEncoder to convert the categories to integers, then you can now use the OneHotEncoder directly.\n",
      "  warnings.warn(msg, FutureWarning)\n"
     ]
    }
   ],
   "source": [
    "## OneHot Label 由(None, 1)-(None, 10)\n",
    "## ex. label=2,變成[0,0,1,0,0,0,0,0,0,0]\n",
    "one_hot=OneHotEncoder()\n",
    "y_train=one_hot.fit_transform(y_train).toarray()\n",
    "y_test=one_hot.transform(y_test).toarray()"
   ]
  },
  {
   "cell_type": "code",
   "execution_count": 5,
   "metadata": {},
   "outputs": [
    {
     "name": "stderr",
     "output_type": "stream",
     "text": [
      "INFO:plaidml:Opening device \"opencl_amd_gfx902.0\"\n"
     ]
    },
    {
     "name": "stdout",
     "output_type": "stream",
     "text": [
      "_________________________________________________________________\n",
      "Layer (type)                 Output Shape              Param #   \n",
      "=================================================================\n",
      "conv2d_1 (Conv2D)            (None, 30, 30, 32)        896       \n",
      "_________________________________________________________________\n",
      "batch_normalization_1 (Batch (None, 30, 30, 32)        128       \n",
      "_________________________________________________________________\n",
      "max_pooling2d_1 (MaxPooling2 (None, 15, 15, 32)        0         \n",
      "_________________________________________________________________\n",
      "conv2d_2 (Conv2D)            (None, 13, 13, 64)        18496     \n",
      "_________________________________________________________________\n",
      "batch_normalization_2 (Batch (None, 13, 13, 64)        256       \n",
      "_________________________________________________________________\n",
      "flatten_1 (Flatten)          (None, 10816)             0         \n",
      "_________________________________________________________________\n",
      "dense_1 (Dense)              (None, 100)               1081700   \n",
      "_________________________________________________________________\n",
      "dense_2 (Dense)              (None, 10)                1010      \n",
      "=================================================================\n",
      "Total params: 1,102,486\n",
      "Trainable params: 1,102,294\n",
      "Non-trainable params: 192\n",
      "_________________________________________________________________\n"
     ]
    },
    {
     "name": "stderr",
     "output_type": "stream",
     "text": [
      "C:\\Users\\Ben\\Anaconda3\\envs\\cvdl\\lib\\site-packages\\ipykernel_launcher.py:21: UserWarning: Update your `Dense` call to the Keras 2 API: `Dense(activation=\"softmax\", units=10)`\n"
     ]
    }
   ],
   "source": [
    "\n",
    "classifier=Sequential()\n",
    "\n",
    "#卷積組合\n",
    "classifier.add(Convolution2D(32, (3,3), input_shape=(32,32,3), activation='relu'))#32,3,3,input_shape=(32,32,3),activation='relu''\n",
    "classifier.add(BatchNormalization())\n",
    "\n",
    "'''自己決定MaxPooling2D放在哪裡'''\n",
    "classifier.add(MaxPooling2D(pool_size=(2,2)))\n",
    "\n",
    "#卷積組合\n",
    "classifier.add(Convolution2D(64, (3,3)))\n",
    "classifier.add(BatchNormalization())\n",
    "\n",
    "#flatten\n",
    "classifier.add(Flatten())\n",
    "\n",
    "#FC\n",
    "classifier.add(Dense(100, activation='relu')) #output_dim=100,activation=relu\n",
    "\n",
    "#輸出\n",
    "classifier.add(Dense(output_dim=10, activation='softmax'))\n",
    "\n",
    "#超過兩個就要選categorical_crossentrophy\n",
    "classifier.compile(optimizer = 'adam', loss = 'categorical_crossentropy', metrics = ['accuracy'])\n",
    "\n",
    "classifier.summary()"
   ]
  },
  {
   "cell_type": "code",
   "execution_count": 6,
   "metadata": {},
   "outputs": [
    {
     "name": "stdout",
     "output_type": "stream",
     "text": [
      "Epoch 1/30\n",
      "50000/50000 [==============================] - 69s 1ms/step - loss: 1.4810 - acc: 0.5249\n",
      "Epoch 2/30\n",
      "50000/50000 [==============================] - 60s 1ms/step - loss: 0.9290 - acc: 0.6787\n",
      "Epoch 3/30\n",
      "50000/50000 [==============================] - 60s 1ms/step - loss: 0.7419 - acc: 0.7411\n",
      "Epoch 4/30\n",
      "50000/50000 [==============================] - 60s 1ms/step - loss: 0.6086 - acc: 0.7848\n",
      "Epoch 5/30\n",
      "50000/50000 [==============================] - 60s 1ms/step - loss: 0.4815 - acc: 0.8315\n",
      "Epoch 6/30\n",
      "50000/50000 [==============================] - 60s 1ms/step - loss: 0.3861 - acc: 0.8664\n",
      "Epoch 7/30\n",
      "50000/50000 [==============================] - 59s 1ms/step - loss: 0.3044 - acc: 0.8922\n",
      "Epoch 8/30\n",
      "50000/50000 [==============================] - 61s 1ms/step - loss: 0.2480 - acc: 0.9142\n",
      "Epoch 9/30\n",
      "50000/50000 [==============================] - 60s 1ms/step - loss: 0.1974 - acc: 0.9306\n",
      "Epoch 10/30\n",
      "50000/50000 [==============================] - 61s 1ms/step - loss: 0.1842 - acc: 0.9357\n",
      "Epoch 11/30\n",
      "50000/50000 [==============================] - 60s 1ms/step - loss: 0.1606 - acc: 0.9438\n",
      "Epoch 12/30\n",
      "50000/50000 [==============================] - 58s 1ms/step - loss: 0.1443 - acc: 0.9499\n",
      "Epoch 13/30\n",
      "50000/50000 [==============================] - 60s 1ms/step - loss: 0.1189 - acc: 0.9596\n",
      "Epoch 14/30\n",
      "50000/50000 [==============================] - 58s 1ms/step - loss: 0.1125 - acc: 0.9613\n",
      "Epoch 15/30\n",
      "50000/50000 [==============================] - 58s 1ms/step - loss: 0.1132 - acc: 0.9615\n",
      "Epoch 16/30\n",
      "50000/50000 [==============================] - 59s 1ms/step - loss: 0.1031 - acc: 0.9642\n",
      "Epoch 17/30\n",
      "50000/50000 [==============================] - 60s 1ms/step - loss: 0.0904 - acc: 0.9689\n",
      "Epoch 18/30\n",
      "50000/50000 [==============================] - 58s 1ms/step - loss: 0.0832 - acc: 0.9719\n",
      "Epoch 19/30\n",
      "50000/50000 [==============================] - 57s 1ms/step - loss: 0.0865 - acc: 0.9700\n",
      "Epoch 20/30\n",
      "50000/50000 [==============================] - 58s 1ms/step - loss: 0.0791 - acc: 0.9738\n",
      "Epoch 21/30\n",
      "50000/50000 [==============================] - 57s 1ms/step - loss: 0.0886 - acc: 0.9705\n",
      "Epoch 22/30\n",
      "50000/50000 [==============================] - 57s 1ms/step - loss: 0.0640 - acc: 0.9778\n",
      "Epoch 23/30\n",
      "50000/50000 [==============================] - 58s 1ms/step - loss: 0.0596 - acc: 0.9796\n",
      "Epoch 24/30\n",
      "50000/50000 [==============================] - 59s 1ms/step - loss: 0.0794 - acc: 0.9745\n",
      "Epoch 25/30\n",
      "50000/50000 [==============================] - 58s 1ms/step - loss: 0.0645 - acc: 0.9783\n",
      "Epoch 26/30\n",
      "50000/50000 [==============================] - 58s 1ms/step - loss: 0.0562 - acc: 0.9817\n",
      "Epoch 27/30\n",
      "50000/50000 [==============================] - 57s 1ms/step - loss: 0.0637 - acc: 0.9793\n",
      "Epoch 28/30\n",
      "50000/50000 [==============================] - 58s 1ms/step - loss: 0.0585 - acc: 0.9807\n",
      "Epoch 29/30\n",
      "50000/50000 [==============================] - 58s 1ms/step - loss: 0.0655 - acc: 0.9792\n",
      "Epoch 30/30\n",
      "50000/50000 [==============================] - 58s 1ms/step - loss: 0.0609 - acc: 0.9799\n"
     ]
    },
    {
     "data": {
      "text/plain": [
       "<keras.callbacks.History at 0x295a2ab1848>"
      ]
     },
     "execution_count": 6,
     "metadata": {},
     "output_type": "execute_result"
    }
   ],
   "source": [
    "classifier.fit(x_train, y_train, batch_size=100, epochs=30)"
   ]
  },
  {
   "cell_type": "markdown",
   "metadata": {},
   "source": [
    "## 預測新圖片，輸入影像前處理要與訓練時相同\n",
    "#### ((X-mean)/(std+1e-7) ):這裡的mean跟std是訓練集的\n",
    "## 維度如下方示範"
   ]
  },
  {
   "cell_type": "code",
   "execution_count": 7,
   "metadata": {},
   "outputs": [
    {
     "data": {
      "text/plain": [
       "array([[4.3025593e-05, 7.2822091e-05, 7.4027653e-04, 6.4473879e-01,\n",
       "        2.7154344e-03, 3.5141101e-01, 1.5929305e-04, 1.1837249e-04,\n",
       "        3.2105353e-07, 6.8845560e-07]], dtype=float32)"
      ]
     },
     "execution_count": 7,
     "metadata": {},
     "output_type": "execute_result"
    }
   ],
   "source": [
    "input_example=(np.zeros(shape=(1,32,32,3))-mean_train)/(std_train+1e-7) \n",
    "classifier.predict(input_example)"
   ]
  },
  {
   "cell_type": "code",
   "execution_count": null,
   "metadata": {},
   "outputs": [],
   "source": []
  }
 ],
 "metadata": {
  "kernelspec": {
   "display_name": "Python 3",
   "language": "python",
   "name": "python3"
  },
  "language_info": {
   "codemirror_mode": {
    "name": "ipython",
    "version": 3
   },
   "file_extension": ".py",
   "mimetype": "text/x-python",
   "name": "python",
   "nbconvert_exporter": "python",
   "pygments_lexer": "ipython3",
   "version": "3.7.5"
  }
 },
 "nbformat": 4,
 "nbformat_minor": 2
}
